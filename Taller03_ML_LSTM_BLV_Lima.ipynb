{
  "nbformat": 4,
  "nbformat_minor": 0,
  "metadata": {
    "colab": {
      "provenance": []
    },
    "kernelspec": {
      "name": "python3",
      "display_name": "Python 3"
    },
    "accelerator": "GPU"
  },
  "cells": [
    {
      "cell_type": "markdown",
      "metadata": {
        "id": "xXgBikjwJ-Xk"
      },
      "source": [
        "---\n",
        "# **RED NEURONAL RECURRENTE (LSTM)**\n",
        "---\n",
        "> **Regresión (Serie de Tiempo)** Precio de acciones de Google.\n",
        "\n",
        "> *Dataset tomado de*: https://tinyurl.com/dataset-tel-acciones\n",
        "\n",
        "> *Desarrollado por*: **Moisés Evangelista G.** (moises.evangelista@urp.edu.pe)\n",
        "\n",
        "---\n"
      ]
    },
    {
      "cell_type": "code",
      "metadata": {
        "id": "K7SWfxix5cJa",
        "colab": {
          "base_uri": "https://localhost:8080/"
        },
        "outputId": "1a6e9a71-563f-4017-e1af-72b82ae86101"
      },
      "source": [
        "%tensorflow_version 2.x\n",
        "import tensorflow as tf\n",
        "print(tf.__version__)"
      ],
      "execution_count": 2,
      "outputs": [
        {
          "output_type": "stream",
          "name": "stdout",
          "text": [
            "Colab only includes TensorFlow 2.x; %tensorflow_version has no effect.\n",
            "2.12.0\n"
          ]
        }
      ]
    },
    {
      "cell_type": "markdown",
      "metadata": {
        "id": "wDmQCgNzIPaF"
      },
      "source": [
        "Montando Google Drive:"
      ]
    },
    {
      "cell_type": "code",
      "metadata": {
        "id": "c5yRg8-fIUXC",
        "colab": {
          "base_uri": "https://localhost:8080/"
        },
        "outputId": "29b8c4f9-1836-4cdf-d703-32d790863c42"
      },
      "source": [
        "from google.colab import drive\n",
        "drive.mount('/content/drive')"
      ],
      "execution_count": 3,
      "outputs": [
        {
          "output_type": "stream",
          "name": "stdout",
          "text": [
            "Mounted at /content/drive\n"
          ]
        }
      ]
    },
    {
      "cell_type": "markdown",
      "metadata": {
        "id": "u8lMo1lfJHk6"
      },
      "source": [
        "Mostrando lista de archivos:"
      ]
    },
    {
      "cell_type": "code",
      "metadata": {
        "id": "2Ey6PaB7JKyG",
        "colab": {
          "base_uri": "https://localhost:8080/"
        },
        "outputId": "757688ad-9c98-441f-8c44-04cf2971888b"
      },
      "source": [
        "%%bash\n",
        "\n",
        "MYPROJECT=\"/content/sample_data\"\n",
        "ls -l \"$MYPROJECT\"\n",
        "echo \"$MYPROJECT\" > config.txt"
      ],
      "execution_count": 4,
      "outputs": [
        {
          "output_type": "stream",
          "name": "stdout",
          "text": [
            "total 55656\n",
            "-rwxr-xr-x 1 root root     1697 Jan  1  2000 anscombe.json\n",
            "-rw-r--r-- 1 root root   301141 Apr 21 13:38 california_housing_test.csv\n",
            "-rw-r--r-- 1 root root  1706430 Apr 21 13:38 california_housing_train.csv\n",
            "-rw-r--r-- 1 root root 18289443 Apr 21 13:38 mnist_test.csv\n",
            "-rw-r--r-- 1 root root 36523880 Apr 21 13:38 mnist_train_small.csv\n",
            "-rwxr-xr-x 1 root root      930 Jan  1  2000 README.md\n",
            "-rw-r--r-- 1 root root     7031 Apr 25 03:06 TELEFBC1_test.csv\n",
            "-rw-r--r-- 1 root root   145122 Apr 25 03:06 TELEFBC1_train.csv\n"
          ]
        }
      ]
    },
    {
      "cell_type": "markdown",
      "metadata": {
        "id": "i0oVfU7hGjLb"
      },
      "source": [
        "\n",
        "\n",
        "---\n",
        "\n",
        " ## PARTE I - PREPROCESAMIENTO DE DATOS\n",
        " \n",
        "\n",
        "---\n",
        "\n"
      ]
    },
    {
      "cell_type": "code",
      "metadata": {
        "id": "JIX2Wxm9G5CD",
        "colab": {
          "base_uri": "https://localhost:8080/"
        },
        "outputId": "f6275e35-0198-45a7-8592-659883de2911"
      },
      "source": [
        "import numpy as np\n",
        "import matplotlib.pyplot as plt\n",
        "import pandas as pd\n",
        "\n",
        "# Importando dataset\n",
        "project_folder = open('config.txt').readline().rstrip('\\n')\n",
        "dataset_train = pd.read_csv(project_folder+'/TELEFBC1_train.csv')\n",
        "# Considerando el precio de apertura \"Close\"\n",
        "training_set = dataset_train.iloc[:, 2:3].values\n",
        "\n",
        "# Feature Scaling\n",
        "# Estandarizacion: (x-u)/dev\n",
        "\n",
        "# Normalizacion: (x-min)/(max-min) --> feature_range [0 - 1]\n",
        "from sklearn.preprocessing import MinMaxScaler\n",
        "sc = MinMaxScaler(feature_range = (0, 1))\n",
        "training_set_scaled = sc.fit_transform(training_set)\n",
        "\n",
        "# Estructura de 60 datos de entrada (t) y 1 dato de salida (t+1)  X[1-60] --> y[61]\n",
        "train_len = len(dataset_train)\n",
        "amplitude = 60\n",
        "\n",
        "print(\"Número de elementos de la serie (Train): \", train_len)\n",
        "print(\"Amplitud: \", amplitude)\n",
        "\n",
        "X_train = []\n",
        "y_train = []\n",
        "\n",
        "for i in range(amplitude, train_len):\n",
        "    X_train.append(training_set_scaled[i-amplitude:i, 0])\n",
        "    y_train.append(training_set_scaled[i, 0])\n",
        "\n",
        "X_train, y_train = np.array(X_train), np.array(y_train)\n",
        "\n",
        "# Redimensionando X_train (train_len,amplitude,1)\n",
        "X_train = np.reshape(X_train, (X_train.shape[0], X_train.shape[1], 1))\n",
        "\n",
        "print (\"Dimensión de X_train: \",X_train.shape)\n",
        "print (\"Dimensión de y_train: \",y_train.shape)"
      ],
      "execution_count": 5,
      "outputs": [
        {
          "output_type": "stream",
          "name": "stdout",
          "text": [
            "Número de elementos de la serie (Train):  1749\n",
            "Amplitud:  60\n",
            "Dimensión de X_train:  (1689, 60, 1)\n",
            "Dimensión de y_train:  (1689,)\n"
          ]
        }
      ]
    },
    {
      "cell_type": "code",
      "metadata": {
        "id": "sXIS3H3zeQ_E",
        "colab": {
          "base_uri": "https://localhost:8080/"
        },
        "outputId": "d08c9988-6230-4ac0-8716-48e7deabf3c4"
      },
      "source": [
        "print(dataset_train.iloc[:, 2:3].values)\n",
        "print(dataset_train.iloc[:, 2:3].columns)"
      ],
      "execution_count": 6,
      "outputs": [
        {
          "output_type": "stream",
          "name": "stdout",
          "text": [
            "[[2.45]\n",
            " [2.45]\n",
            " [2.47]\n",
            " ...\n",
            " [0.6 ]\n",
            " [0.6 ]\n",
            " [0.6 ]]\n",
            "Index(['Cierre'], dtype='object')\n"
          ]
        }
      ]
    },
    {
      "cell_type": "markdown",
      "metadata": {
        "id": "uhziosTLJnHd"
      },
      "source": [
        "\n",
        "\n",
        "---\n",
        "\n",
        "## PARTE II - CONSTRUYENDO LA RED NEURONAL RECURRENTE\n",
        " \n",
        "\n",
        "---\n",
        "\n"
      ]
    },
    {
      "cell_type": "code",
      "metadata": {
        "id": "w-YsHraVJxJW",
        "colab": {
          "base_uri": "https://localhost:8080/"
        },
        "outputId": "ea95f4c5-1641-49f2-c597-f8d37a5cc096"
      },
      "source": [
        "# Importing the Keras libraries and packages\n",
        "from keras.models import Sequential\n",
        "from keras.layers import Dense\n",
        "from keras.layers import LSTM\n",
        "from keras.layers import Dropout\n",
        "\n",
        "# inicializando the RNN\n",
        "rnn_model = Sequential()\n",
        "\n",
        "# 1ra capa LSTM y Dropout para regularización.\n",
        "# input_shape (amplitude,1)\n",
        "rnn_model.add(LSTM(units = 50, return_sequences = True, input_shape = (X_train.shape[1], 1)))\n",
        "# 20% de las neuronas serán ignoradas durante el training (20%xNodos = 10)\n",
        "# Para hacer menos probable el overfiting\n",
        "rnn_model.add(Dropout(rate=0.2))\n",
        "\n",
        "# 2da capa LSTM y Dropout para regularización.\n",
        "rnn_model.add(LSTM(units = 50, return_sequences = True))\n",
        "rnn_model.add(Dropout(rate=0.2))\n",
        "\n",
        "# 3ra capa LSTM y Dropout para regularización.\n",
        "rnn_model.add(LSTM(units = 50, return_sequences = True))\n",
        "rnn_model.add(Dropout(rate=0.2))\n",
        "\n",
        "# 4ta capa LSTM y Dropout para regularización.\n",
        "rnn_model.add(LSTM(units = 50, return_sequences = False))\n",
        "rnn_model.add(Dropout(rate=0.2))\n",
        "\n",
        "# Output layer\n",
        "rnn_model.add(Dense(units = 1))\n",
        "\n",
        "rnn_model.summary()"
      ],
      "execution_count": 8,
      "outputs": [
        {
          "output_type": "stream",
          "name": "stdout",
          "text": [
            "Model: \"sequential_1\"\n",
            "_________________________________________________________________\n",
            " Layer (type)                Output Shape              Param #   \n",
            "=================================================================\n",
            " lstm_4 (LSTM)               (None, 60, 50)            10400     \n",
            "                                                                 \n",
            " dropout_4 (Dropout)         (None, 60, 50)            0         \n",
            "                                                                 \n",
            " lstm_5 (LSTM)               (None, 60, 50)            20200     \n",
            "                                                                 \n",
            " dropout_5 (Dropout)         (None, 60, 50)            0         \n",
            "                                                                 \n",
            " lstm_6 (LSTM)               (None, 60, 50)            20200     \n",
            "                                                                 \n",
            " dropout_6 (Dropout)         (None, 60, 50)            0         \n",
            "                                                                 \n",
            " lstm_7 (LSTM)               (None, 50)                20200     \n",
            "                                                                 \n",
            " dropout_7 (Dropout)         (None, 50)                0         \n",
            "                                                                 \n",
            " dense_1 (Dense)             (None, 1)                 51        \n",
            "                                                                 \n",
            "=================================================================\n",
            "Total params: 71,051\n",
            "Trainable params: 71,051\n",
            "Non-trainable params: 0\n",
            "_________________________________________________________________\n"
          ]
        }
      ]
    },
    {
      "cell_type": "code",
      "metadata": {
        "id": "TLlIDXHlCL3D",
        "colab": {
          "base_uri": "https://localhost:8080/"
        },
        "outputId": "0071dd22-cafe-4f92-b756-0fc54135bbee"
      },
      "source": [
        "import datetime\n",
        "print('Iniciando a las: ', datetime.datetime.now())\n",
        "print(\"...\")\n",
        "\n",
        "# Compiling the RNN\n",
        "rnn_model.compile(optimizer = 'adam', loss = 'mean_squared_error')\n",
        "\n",
        "# Entrenamiento de la RNN con nuestro Training set\n",
        "rnn_model.fit(X_train, y_train, epochs = 20, batch_size = 32)\n",
        "\n",
        "print(\"...\")\n",
        "print('Terminando a las: ', datetime.datetime.now())\n"
      ],
      "execution_count": 9,
      "outputs": [
        {
          "output_type": "stream",
          "name": "stdout",
          "text": [
            "Iniciando a las:  2023-04-25 03:07:32.432477\n",
            "...\n",
            "Epoch 1/20\n",
            "53/53 [==============================] - 13s 15ms/step - loss: 0.0392\n",
            "Epoch 2/20\n",
            "53/53 [==============================] - 1s 14ms/step - loss: 0.0073\n",
            "Epoch 3/20\n",
            "53/53 [==============================] - 1s 13ms/step - loss: 0.0070\n",
            "Epoch 4/20\n",
            "53/53 [==============================] - 1s 14ms/step - loss: 0.0065\n",
            "Epoch 5/20\n",
            "53/53 [==============================] - 1s 13ms/step - loss: 0.0061\n",
            "Epoch 6/20\n",
            "53/53 [==============================] - 1s 14ms/step - loss: 0.0053\n",
            "Epoch 7/20\n",
            "53/53 [==============================] - 1s 14ms/step - loss: 0.0056\n",
            "Epoch 8/20\n",
            "53/53 [==============================] - 1s 15ms/step - loss: 0.0055\n",
            "Epoch 9/20\n",
            "53/53 [==============================] - 1s 19ms/step - loss: 0.0049\n",
            "Epoch 10/20\n",
            "53/53 [==============================] - 1s 19ms/step - loss: 0.0049\n",
            "Epoch 11/20\n",
            "53/53 [==============================] - 1s 20ms/step - loss: 0.0046\n",
            "Epoch 12/20\n",
            "53/53 [==============================] - 1s 15ms/step - loss: 0.0046\n",
            "Epoch 13/20\n",
            "53/53 [==============================] - 1s 13ms/step - loss: 0.0046\n",
            "Epoch 14/20\n",
            "53/53 [==============================] - 1s 14ms/step - loss: 0.0042\n",
            "Epoch 15/20\n",
            "53/53 [==============================] - 1s 14ms/step - loss: 0.0041\n",
            "Epoch 16/20\n",
            "53/53 [==============================] - 1s 13ms/step - loss: 0.0042\n",
            "Epoch 17/20\n",
            "53/53 [==============================] - 1s 13ms/step - loss: 0.0038\n",
            "Epoch 18/20\n",
            "53/53 [==============================] - 1s 13ms/step - loss: 0.0038\n",
            "Epoch 19/20\n",
            "53/53 [==============================] - 1s 14ms/step - loss: 0.0037\n",
            "Epoch 20/20\n",
            "53/53 [==============================] - 1s 21ms/step - loss: 0.0035\n",
            "...\n",
            "Terminando a las:  2023-04-25 03:08:19.363474\n"
          ]
        }
      ]
    },
    {
      "cell_type": "markdown",
      "metadata": {
        "id": "FoARNbtdKO9s"
      },
      "source": [
        "---\n",
        "\n",
        " ## PARTE III - PREDICCIONES Y VISUALIZACION DE RESULTADOS\n",
        " \n",
        "\n",
        "---\n",
        "\n",
        "\n"
      ]
    },
    {
      "cell_type": "code",
      "metadata": {
        "id": "1h2BPuEkKRZl",
        "colab": {
          "base_uri": "https://localhost:8080/"
        },
        "outputId": "442fde85-e87f-4259-cf8c-cf51470642ca"
      },
      "source": [
        "# Precio de Acción reales (2019)\n",
        "dataset_test = pd.read_csv(project_folder+'/TELEFBC1_test.csv')\n",
        "real_stock_price = dataset_test.iloc[:, 2:3].values\n",
        "\n",
        "test_len = len(dataset_test)\n",
        "print(\"Número de elementos de la serie (Test): \", test_len)\n",
        "\n",
        "# Precio de Acción pronosticados (2019)\n",
        "# Concatenar en un solo vector (train + test)\n",
        "dataset_total = pd.concat((dataset_train['Cierre'], dataset_test['Cierre']), axis = 0)\n",
        "\n",
        "# Obteniendo los 60 datos anteriores al primer elemento del Test set\n",
        "inputs = dataset_total[len(dataset_total) - test_len - amplitude:].values\n",
        "\n",
        "# Redimensionando de (x,) --> (x,1)\n",
        "inputs = inputs.reshape(-1,1)\n",
        "\n",
        "# Feature Scaling\n",
        "inputs = sc.transform(inputs)\n",
        "\n",
        "X_test = []\n",
        "\n",
        "for i in range(0, test_len):\n",
        "    X_test.append(inputs[i:i + amplitude, 0])\n",
        "\n",
        "X_test = np.array(X_test)\n",
        "X_test = np.reshape(X_test, (X_test.shape[0], X_test.shape[1], 1))\n",
        "print (\"Dimensión de X_test: \",X_test.shape)\n",
        "\n",
        "predicted_stock_price = rnn_model.predict(X_test)\n",
        "predicted_stock_price = sc.inverse_transform(predicted_stock_price)"
      ],
      "execution_count": 10,
      "outputs": [
        {
          "output_type": "stream",
          "name": "stdout",
          "text": [
            "Número de elementos de la serie (Test):  83\n",
            "Dimensión de X_test:  (83, 60, 1)\n",
            "3/3 [==============================] - 1s 9ms/step\n"
          ]
        }
      ]
    },
    {
      "cell_type": "markdown",
      "metadata": {
        "id": "Z0dpXHEpKsIn"
      },
      "source": [
        "---\n",
        "\n",
        " #### VISUALIZACION DE RESULTADOS\n",
        " \n",
        "\n",
        "---"
      ]
    },
    {
      "cell_type": "code",
      "metadata": {
        "id": "Yz51K4gNPcTu",
        "colab": {
          "base_uri": "https://localhost:8080/",
          "height": 697
        },
        "outputId": "4cdca78d-12a7-4532-fe38-58c0ab074090"
      },
      "source": [
        "# Visualizando resultados\n",
        "plt.figure(figsize=(14,10),dpi=80)\n",
        "plt.plot(real_stock_price, color = 'Green', label = 'BLV Precio Acción - (Real)')\n",
        "plt.plot(predicted_stock_price, color = 'red', label = 'BLV Precio Acción - (Pronóstico)', dashes=[6, 2])\n",
        "plt.title('Pronóstico del Precio de la acción de BLV')\n",
        "plt.xlabel('Tiempo')\n",
        "plt.ylabel('BLV Price Acción')\n",
        "plt.legend()\n",
        "plt.show()"
      ],
      "execution_count": 12,
      "outputs": [
        {
          "output_type": "display_data",
          "data": {
            "text/plain": [
              "<Figure size 1120x800 with 1 Axes>"
            ],
            "image/png": "[encoded data removed]"
          },
          "metadata": {}
        }
      ]
    },
    {
      "cell_type": "markdown",
      "metadata": {
        "id": "YrTT1qq6LAbU"
      },
      "source": [
        "---\n",
        "\n",
        " #### RMSE\n",
        " \n",
        "\n",
        "---"
      ]
    },
    {
      "cell_type": "code",
      "metadata": {
        "id": "imSzpVGGLG1J"
      },
      "source": [
        "# RMSE\n",
        "import math\n",
        "from sklearn.metrics import mean_squared_error\n",
        "rmse = math.sqrt(mean_squared_error(real_stock_price, predicted_stock_price))"
      ],
      "execution_count": 13,
      "outputs": []
    },
    {
      "cell_type": "code",
      "metadata": {
        "id": "v2RY-n8PNiPm",
        "colab": {
          "base_uri": "https://localhost:8080/"
        },
        "outputId": "41c6e03a-6705-494d-bef0-10a3981c1f5c"
      },
      "source": [
        "print (\"rmse: \", rmse)"
      ],
      "execution_count": 14,
      "outputs": [
        {
          "output_type": "stream",
          "name": "stdout",
          "text": [
            "rmse:  0.052401820847342254\n"
          ]
        }
      ]
    }
  ]
}